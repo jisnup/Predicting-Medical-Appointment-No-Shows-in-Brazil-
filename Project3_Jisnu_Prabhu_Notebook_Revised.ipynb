{
 "cells": [
  {
   "cell_type": "markdown",
   "metadata": {},
   "source": [
    "\n",
    "# Project: Analysis of Brazil's Medical Appointment \n",
    "\n",
    "## Table of Contents\n",
    "<ul>\n",
    "<li><a href=\"#intro\">Introduction</a></li>\n",
    "<li><a href=\"#wrangling\">Data Wrangling</a></li>\n",
    "<li><a href=\"#eda\">Exploratory Data Analysis</a></li>\n",
    "<li><a href=\"#conclusions\">Conclusions</a></li>\n",
    "</ul>"
   ]
  },
  {
   "cell_type": "markdown",
   "metadata": {},
   "source": [
    "<a id='intro'></a>\n",
    "## Introduction\n",
    "\n",
    "The following report is based on the No-show appointment dataset obtained from Kaggle. This dataset is about patients in brazil who scheduled an appointment and did or did not show up. So they have collected more details about each patient like their gender , age and the diseases they have. With the data collected I am going to analysis to see if there is a relation between the variables collected. \n",
    "\n",
    "The dataset consists of the PatientID, AppointmentID, Gender, ScheduledDay, AppointmentDay, Age, Neighbourhood, Scholarship, Hipertension, Diabetes, Alcoholism, Handcap, SMS_received, No-show. For my analysis No-show is dependent variable and gender, age and alcoholism are the three independent variable.\n",
    "\n",
    "Question 1: Whose is most likely to miss their appointment men or women ?\n",
    "\n",
    "Question 2: Which age group Alcoholic's are more likely to miss their appointment?\n",
    "\n"
   ]
  },
  {
   "cell_type": "code",
   "execution_count": 278,
   "metadata": {},
   "outputs": [],
   "source": [
    "# Installing Packages\n",
    "import pandas as pd\n",
    "import numpy as np\n",
    "import matplotlib.pyplot as plt\n",
    "import matplotlib.gridspec as gridspec\n",
    "import seaborn as sns\n",
    "import datetime\n",
    "import warnings\n",
    "warnings.filterwarnings(\"ignore\")\n",
    "\n",
    "from sklearn.cross_validation import train_test_split\n",
    "from sklearn.preprocessing import StandardScaler\n",
    "from sklearn.linear_model import LogisticRegression\n",
    "from sklearn.tree import DecisionTreeClassifier\n",
    "from sklearn.svm import SVC\n",
    "from sklearn.metrics import classification_report, accuracy_score\n",
    "\n",
    "% matplotlib inline\n",
    "sns.set_style(\"whitegrid\")"
   ]
  },
  {
   "cell_type": "markdown",
   "metadata": {},
   "source": [
    "<a id='wrangling'></a>\n",
    "## Data Wrangling\n",
    "\n",
    "### General Properties"
   ]
  },
  {
   "cell_type": "code",
   "execution_count": 250,
   "metadata": {},
   "outputs": [
    {
     "data": {
      "text/html": [
       "<div>\n",
       "<style>\n",
       "    .dataframe thead tr:only-child th {\n",
       "        text-align: right;\n",
       "    }\n",
       "\n",
       "    .dataframe thead th {\n",
       "        text-align: left;\n",
       "    }\n",
       "\n",
       "    .dataframe tbody tr th {\n",
       "        vertical-align: top;\n",
       "    }\n",
       "</style>\n",
       "<table border=\"1\" class=\"dataframe\">\n",
       "  <thead>\n",
       "    <tr style=\"text-align: right;\">\n",
       "      <th></th>\n",
       "      <th>PatientId</th>\n",
       "      <th>AppointmentID</th>\n",
       "      <th>Gender</th>\n",
       "      <th>ScheduledDay</th>\n",
       "      <th>AppointmentDay</th>\n",
       "      <th>Age</th>\n",
       "      <th>Neighbourhood</th>\n",
       "      <th>Scholarship</th>\n",
       "      <th>Hipertension</th>\n",
       "      <th>Diabetes</th>\n",
       "      <th>Alcoholism</th>\n",
       "      <th>Handcap</th>\n",
       "      <th>SMS_received</th>\n",
       "      <th>No-show</th>\n",
       "    </tr>\n",
       "  </thead>\n",
       "  <tbody>\n",
       "    <tr>\n",
       "      <th>0</th>\n",
       "      <td>2.987250e+13</td>\n",
       "      <td>5642903</td>\n",
       "      <td>F</td>\n",
       "      <td>2016-04-29T18:38:08Z</td>\n",
       "      <td>2016-04-29T00:00:00Z</td>\n",
       "      <td>62</td>\n",
       "      <td>JARDIM DA PENHA</td>\n",
       "      <td>0</td>\n",
       "      <td>1</td>\n",
       "      <td>0</td>\n",
       "      <td>0</td>\n",
       "      <td>0</td>\n",
       "      <td>0</td>\n",
       "      <td>No</td>\n",
       "    </tr>\n",
       "    <tr>\n",
       "      <th>1</th>\n",
       "      <td>5.589978e+14</td>\n",
       "      <td>5642503</td>\n",
       "      <td>M</td>\n",
       "      <td>2016-04-29T16:08:27Z</td>\n",
       "      <td>2016-04-29T00:00:00Z</td>\n",
       "      <td>56</td>\n",
       "      <td>JARDIM DA PENHA</td>\n",
       "      <td>0</td>\n",
       "      <td>0</td>\n",
       "      <td>0</td>\n",
       "      <td>0</td>\n",
       "      <td>0</td>\n",
       "      <td>0</td>\n",
       "      <td>No</td>\n",
       "    </tr>\n",
       "    <tr>\n",
       "      <th>2</th>\n",
       "      <td>4.262962e+12</td>\n",
       "      <td>5642549</td>\n",
       "      <td>F</td>\n",
       "      <td>2016-04-29T16:19:04Z</td>\n",
       "      <td>2016-04-29T00:00:00Z</td>\n",
       "      <td>62</td>\n",
       "      <td>MATA DA PRAIA</td>\n",
       "      <td>0</td>\n",
       "      <td>0</td>\n",
       "      <td>0</td>\n",
       "      <td>0</td>\n",
       "      <td>0</td>\n",
       "      <td>0</td>\n",
       "      <td>No</td>\n",
       "    </tr>\n",
       "    <tr>\n",
       "      <th>3</th>\n",
       "      <td>8.679512e+11</td>\n",
       "      <td>5642828</td>\n",
       "      <td>F</td>\n",
       "      <td>2016-04-29T17:29:31Z</td>\n",
       "      <td>2016-04-29T00:00:00Z</td>\n",
       "      <td>8</td>\n",
       "      <td>PONTAL DE CAMBURI</td>\n",
       "      <td>0</td>\n",
       "      <td>0</td>\n",
       "      <td>0</td>\n",
       "      <td>0</td>\n",
       "      <td>0</td>\n",
       "      <td>0</td>\n",
       "      <td>No</td>\n",
       "    </tr>\n",
       "    <tr>\n",
       "      <th>4</th>\n",
       "      <td>8.841186e+12</td>\n",
       "      <td>5642494</td>\n",
       "      <td>F</td>\n",
       "      <td>2016-04-29T16:07:23Z</td>\n",
       "      <td>2016-04-29T00:00:00Z</td>\n",
       "      <td>56</td>\n",
       "      <td>JARDIM DA PENHA</td>\n",
       "      <td>0</td>\n",
       "      <td>1</td>\n",
       "      <td>1</td>\n",
       "      <td>0</td>\n",
       "      <td>0</td>\n",
       "      <td>0</td>\n",
       "      <td>No</td>\n",
       "    </tr>\n",
       "  </tbody>\n",
       "</table>\n",
       "</div>"
      ],
      "text/plain": [
       "      PatientId  AppointmentID Gender          ScheduledDay  \\\n",
       "0  2.987250e+13        5642903      F  2016-04-29T18:38:08Z   \n",
       "1  5.589978e+14        5642503      M  2016-04-29T16:08:27Z   \n",
       "2  4.262962e+12        5642549      F  2016-04-29T16:19:04Z   \n",
       "3  8.679512e+11        5642828      F  2016-04-29T17:29:31Z   \n",
       "4  8.841186e+12        5642494      F  2016-04-29T16:07:23Z   \n",
       "\n",
       "         AppointmentDay  Age      Neighbourhood  Scholarship  Hipertension  \\\n",
       "0  2016-04-29T00:00:00Z   62    JARDIM DA PENHA            0             1   \n",
       "1  2016-04-29T00:00:00Z   56    JARDIM DA PENHA            0             0   \n",
       "2  2016-04-29T00:00:00Z   62      MATA DA PRAIA            0             0   \n",
       "3  2016-04-29T00:00:00Z    8  PONTAL DE CAMBURI            0             0   \n",
       "4  2016-04-29T00:00:00Z   56    JARDIM DA PENHA            0             1   \n",
       "\n",
       "   Diabetes  Alcoholism  Handcap  SMS_received No-show  \n",
       "0         0           0        0             0      No  \n",
       "1         0           0        0             0      No  \n",
       "2         0           0        0             0      No  \n",
       "3         0           0        0             0      No  \n",
       "4         1           0        0             0      No  "
      ]
     },
     "execution_count": 250,
     "metadata": {},
     "output_type": "execute_result"
    }
   ],
   "source": [
    "# Reading the dataset to variable df using pandas \n",
    "df = pd.read_csv('noshowappointments-kagglev2-may-2016.csv')\n",
    "df.head()"
   ]
  },
  {
   "cell_type": "code",
   "execution_count": 251,
   "metadata": {
    "scrolled": true
   },
   "outputs": [
    {
     "name": "stdout",
     "output_type": "stream",
     "text": [
      "<class 'pandas.core.frame.DataFrame'>\n",
      "RangeIndex: 110527 entries, 0 to 110526\n",
      "Data columns (total 14 columns):\n",
      "PatientId         110527 non-null float64\n",
      "AppointmentID     110527 non-null int64\n",
      "Gender            110527 non-null object\n",
      "ScheduledDay      110527 non-null object\n",
      "AppointmentDay    110527 non-null object\n",
      "Age               110527 non-null int64\n",
      "Neighbourhood     110527 non-null object\n",
      "Scholarship       110527 non-null int64\n",
      "Hipertension      110527 non-null int64\n",
      "Diabetes          110527 non-null int64\n",
      "Alcoholism        110527 non-null int64\n",
      "Handcap           110527 non-null int64\n",
      "SMS_received      110527 non-null int64\n",
      "No-show           110527 non-null object\n",
      "dtypes: float64(1), int64(8), object(5)\n",
      "memory usage: 11.8+ MB\n"
     ]
    }
   ],
   "source": [
    "df.shape\n",
    "df.info() # The scheduledDay and AppointmentDay are objects instead of date and time. \n",
    "df.isnull().any();  # There are no missing values\n",
    "df.describe(); # age column consists of -1 (needs to removed)"
   ]
  },
  {
   "cell_type": "markdown",
   "metadata": {},
   "source": [
    "\n",
    "### Data Cleaning \n",
    "\n",
    "The dataset consists of 14 columns and 110527 entries with no null values. The Columns names are mixed with lowercase and \n",
    "uppercase and need to changed to a more convenient format for our ease. ScheduledDay and AppointmentDay columns are object \n",
    "datatype instead of date and time type, the other columns have the right data type. \n",
    "    There are some columns like PatientId, AppointmentID are not required for us so they can be dropped. To reduce the memory\n",
    "gender and No-show column are converted to Categorical datatype. Need to check for duplicates and have to remove them."
   ]
  },
  {
   "cell_type": "code",
   "execution_count": 252,
   "metadata": {},
   "outputs": [],
   "source": [
    "# Columns patientid and appointment id are not useful for the analysis so they are being dropped\n",
    "df.drop(['PatientId','AppointmentID'], axis = 1, inplace = True)"
   ]
  },
  {
   "cell_type": "code",
   "execution_count": 253,
   "metadata": {},
   "outputs": [],
   "source": [
    "# Changing the column name to lower case\n",
    "df.rename(columns = str.lower, inplace= True)\n",
    "df.rename(columns={'appointmentday': 'appointment_day', 'scheduledday': 'scheduled_day', 'hipertension':'hypertension',\n",
    "                   'no-show':'no_show', 'handcap':'handicap'}, inplace=True)"
   ]
  },
  {
   "cell_type": "code",
   "execution_count": 254,
   "metadata": {},
   "outputs": [],
   "source": [
    "#checking for duplicates\n",
    "df[df.duplicated()]\n",
    "\n",
    "# I have dropped all duplicates\n",
    "df.drop_duplicates(inplace = True)"
   ]
  },
  {
   "cell_type": "code",
   "execution_count": 255,
   "metadata": {},
   "outputs": [],
   "source": [
    "# Converted the columns to date and time format. \n",
    "df.scheduled_day =  pd.to_datetime(df.scheduled_day)\n",
    "df.appointment_day =  pd.to_datetime(df.appointment_day)\n",
    "df['waiting_time'] = abs(df.appointment_day - df.scheduled_day)"
   ]
  },
  {
   "cell_type": "code",
   "execution_count": 256,
   "metadata": {},
   "outputs": [],
   "source": [
    "# Changed to Categorical level since there are just two outputs\n",
    "df.gender = pd.Categorical(df.gender)\n",
    "df.no_show = pd.Categorical(df.no_show)"
   ]
  },
  {
   "cell_type": "code",
   "execution_count": 257,
   "metadata": {},
   "outputs": [],
   "source": [
    "# Removing rows with age less than 0.\n",
    "df = df[df.age >= 0]\n",
    "\n",
    "#Renaming No-show column\n",
    "df[\"no_show\"] = df[\"no_show\"].map({\"Yes\": 1, \"No\": 0})\n",
    "df[\"gender\"] = df[\"gender\"].map({\"F\": 0, \"M\": 1})"
   ]
  },
  {
   "cell_type": "code",
   "execution_count": 258,
   "metadata": {},
   "outputs": [
    {
     "data": {
      "text/html": [
       "<div>\n",
       "<style>\n",
       "    .dataframe thead tr:only-child th {\n",
       "        text-align: right;\n",
       "    }\n",
       "\n",
       "    .dataframe thead th {\n",
       "        text-align: left;\n",
       "    }\n",
       "\n",
       "    .dataframe tbody tr th {\n",
       "        vertical-align: top;\n",
       "    }\n",
       "</style>\n",
       "<table border=\"1\" class=\"dataframe\">\n",
       "  <thead>\n",
       "    <tr style=\"text-align: right;\">\n",
       "      <th></th>\n",
       "      <th>gender</th>\n",
       "      <th>scheduled_day</th>\n",
       "      <th>appointment_day</th>\n",
       "      <th>age</th>\n",
       "      <th>neighbourhood</th>\n",
       "      <th>scholarship</th>\n",
       "      <th>hypertension</th>\n",
       "      <th>diabetes</th>\n",
       "      <th>alcoholism</th>\n",
       "      <th>handicap</th>\n",
       "      <th>sms_received</th>\n",
       "      <th>no_show</th>\n",
       "      <th>waiting_time</th>\n",
       "    </tr>\n",
       "  </thead>\n",
       "  <tbody>\n",
       "    <tr>\n",
       "      <th>0</th>\n",
       "      <td>0</td>\n",
       "      <td>2016-04-29 18:38:08</td>\n",
       "      <td>2016-04-29</td>\n",
       "      <td>62</td>\n",
       "      <td>JARDIM DA PENHA</td>\n",
       "      <td>0</td>\n",
       "      <td>1</td>\n",
       "      <td>0</td>\n",
       "      <td>0</td>\n",
       "      <td>0</td>\n",
       "      <td>0</td>\n",
       "      <td>0</td>\n",
       "      <td>18:38:08</td>\n",
       "    </tr>\n",
       "    <tr>\n",
       "      <th>1</th>\n",
       "      <td>1</td>\n",
       "      <td>2016-04-29 16:08:27</td>\n",
       "      <td>2016-04-29</td>\n",
       "      <td>56</td>\n",
       "      <td>JARDIM DA PENHA</td>\n",
       "      <td>0</td>\n",
       "      <td>0</td>\n",
       "      <td>0</td>\n",
       "      <td>0</td>\n",
       "      <td>0</td>\n",
       "      <td>0</td>\n",
       "      <td>0</td>\n",
       "      <td>16:08:27</td>\n",
       "    </tr>\n",
       "    <tr>\n",
       "      <th>2</th>\n",
       "      <td>0</td>\n",
       "      <td>2016-04-29 16:19:04</td>\n",
       "      <td>2016-04-29</td>\n",
       "      <td>62</td>\n",
       "      <td>MATA DA PRAIA</td>\n",
       "      <td>0</td>\n",
       "      <td>0</td>\n",
       "      <td>0</td>\n",
       "      <td>0</td>\n",
       "      <td>0</td>\n",
       "      <td>0</td>\n",
       "      <td>0</td>\n",
       "      <td>16:19:04</td>\n",
       "    </tr>\n",
       "    <tr>\n",
       "      <th>3</th>\n",
       "      <td>0</td>\n",
       "      <td>2016-04-29 17:29:31</td>\n",
       "      <td>2016-04-29</td>\n",
       "      <td>8</td>\n",
       "      <td>PONTAL DE CAMBURI</td>\n",
       "      <td>0</td>\n",
       "      <td>0</td>\n",
       "      <td>0</td>\n",
       "      <td>0</td>\n",
       "      <td>0</td>\n",
       "      <td>0</td>\n",
       "      <td>0</td>\n",
       "      <td>17:29:31</td>\n",
       "    </tr>\n",
       "    <tr>\n",
       "      <th>4</th>\n",
       "      <td>0</td>\n",
       "      <td>2016-04-29 16:07:23</td>\n",
       "      <td>2016-04-29</td>\n",
       "      <td>56</td>\n",
       "      <td>JARDIM DA PENHA</td>\n",
       "      <td>0</td>\n",
       "      <td>1</td>\n",
       "      <td>1</td>\n",
       "      <td>0</td>\n",
       "      <td>0</td>\n",
       "      <td>0</td>\n",
       "      <td>0</td>\n",
       "      <td>16:07:23</td>\n",
       "    </tr>\n",
       "  </tbody>\n",
       "</table>\n",
       "</div>"
      ],
      "text/plain": [
       "   gender       scheduled_day appointment_day  age      neighbourhood  \\\n",
       "0       0 2016-04-29 18:38:08      2016-04-29   62    JARDIM DA PENHA   \n",
       "1       1 2016-04-29 16:08:27      2016-04-29   56    JARDIM DA PENHA   \n",
       "2       0 2016-04-29 16:19:04      2016-04-29   62      MATA DA PRAIA   \n",
       "3       0 2016-04-29 17:29:31      2016-04-29    8  PONTAL DE CAMBURI   \n",
       "4       0 2016-04-29 16:07:23      2016-04-29   56    JARDIM DA PENHA   \n",
       "\n",
       "   scholarship  hypertension  diabetes  alcoholism  handicap  sms_received  \\\n",
       "0            0             1         0           0         0             0   \n",
       "1            0             0         0           0         0             0   \n",
       "2            0             0         0           0         0             0   \n",
       "3            0             0         0           0         0             0   \n",
       "4            0             1         1           0         0             0   \n",
       "\n",
       "   no_show waiting_time  \n",
       "0        0     18:38:08  \n",
       "1        0     16:08:27  \n",
       "2        0     16:19:04  \n",
       "3        0     17:29:31  \n",
       "4        0     16:07:23  "
      ]
     },
     "execution_count": 258,
     "metadata": {},
     "output_type": "execute_result"
    }
   ],
   "source": [
    "df.head()"
   ]
  },
  {
   "cell_type": "markdown",
   "metadata": {},
   "source": [
    "# Data Distribution"
   ]
  },
  {
   "cell_type": "code",
   "execution_count": 259,
   "metadata": {},
   "outputs": [
    {
     "data": {
      "image/png": "[encoded data removed]",
      "text/plain": [
       "<matplotlib.figure.Figure at 0x1e28f2d31d0>"
      ]
     },
     "metadata": {},
     "output_type": "display_data"
    }
   ],
   "source": [
    "features = [\"diabetes\",\"alcoholism\",\"hypertension\",\"sms_received\",\"scholarship\",\"gender\", \"handicap\"]\n",
    "\n",
    "plt.figure(figsize=(10,20))\n",
    "gs = gridspec.GridSpec(4, 2)\n",
    "\n",
    "for i,feature in enumerate(features):\n",
    "    ax = plt.subplot(gs[(i // 2),(i % 2)])\n",
    "    sns.countplot(df[feature], ax = ax)\n",
    "\n",
    "plt.show()"
   ]
  },
  {
   "cell_type": "code",
   "execution_count": 260,
   "metadata": {
    "scrolled": true
   },
   "outputs": [
    {
     "data": {
      "image/png": "[encoded data removed]",
      "text/plain": [
       "<matplotlib.figure.Figure at 0x1e28e460f28>"
      ]
     },
     "metadata": {},
     "output_type": "display_data"
    }
   ],
   "source": [
    "#Age distribution\n",
    "plt.figure(figsize=(10, 5))\n",
    "sns.distplot(df.age, kde=False, color = 'red')\n",
    "plt.title(\"Age Distribution\")\n",
    "plt.show()"
   ]
  },
  {
   "cell_type": "code",
   "execution_count": 261,
   "metadata": {},
   "outputs": [
    {
     "data": {
      "text/html": [
       "<div>\n",
       "<style>\n",
       "    .dataframe thead tr:only-child th {\n",
       "        text-align: right;\n",
       "    }\n",
       "\n",
       "    .dataframe thead th {\n",
       "        text-align: left;\n",
       "    }\n",
       "\n",
       "    .dataframe tbody tr th {\n",
       "        vertical-align: top;\n",
       "    }\n",
       "</style>\n",
       "<table border=\"1\" class=\"dataframe\">\n",
       "  <thead>\n",
       "    <tr style=\"text-align: right;\">\n",
       "      <th></th>\n",
       "      <th>gender</th>\n",
       "      <th>scheduled_day</th>\n",
       "      <th>appointment_day</th>\n",
       "      <th>age</th>\n",
       "      <th>neighbourhood</th>\n",
       "      <th>scholarship</th>\n",
       "      <th>hypertension</th>\n",
       "      <th>diabetes</th>\n",
       "      <th>alcoholism</th>\n",
       "      <th>handicap</th>\n",
       "      <th>sms_received</th>\n",
       "      <th>no_show</th>\n",
       "      <th>waiting_time</th>\n",
       "    </tr>\n",
       "  </thead>\n",
       "  <tbody>\n",
       "    <tr>\n",
       "      <th>23618</th>\n",
       "      <td>0</td>\n",
       "      <td>2016-04-05 08:23:12</td>\n",
       "      <td>2016-05-11</td>\n",
       "      <td>89</td>\n",
       "      <td>DO QUADRO</td>\n",
       "      <td>0</td>\n",
       "      <td>1</td>\n",
       "      <td>0</td>\n",
       "      <td>0</td>\n",
       "      <td>0</td>\n",
       "      <td>0</td>\n",
       "      <td>1</td>\n",
       "      <td>35 days 15:36:48</td>\n",
       "    </tr>\n",
       "    <tr>\n",
       "      <th>46076</th>\n",
       "      <td>0</td>\n",
       "      <td>2016-05-04 16:36:38</td>\n",
       "      <td>2016-05-04</td>\n",
       "      <td>48</td>\n",
       "      <td>MARUÍPE</td>\n",
       "      <td>0</td>\n",
       "      <td>0</td>\n",
       "      <td>0</td>\n",
       "      <td>0</td>\n",
       "      <td>0</td>\n",
       "      <td>0</td>\n",
       "      <td>0</td>\n",
       "      <td>0 days 16:36:38</td>\n",
       "    </tr>\n",
       "    <tr>\n",
       "      <th>27289</th>\n",
       "      <td>0</td>\n",
       "      <td>2016-04-29 08:22:16</td>\n",
       "      <td>2016-05-12</td>\n",
       "      <td>51</td>\n",
       "      <td>JOANA D´ARC</td>\n",
       "      <td>0</td>\n",
       "      <td>0</td>\n",
       "      <td>0</td>\n",
       "      <td>0</td>\n",
       "      <td>0</td>\n",
       "      <td>1</td>\n",
       "      <td>1</td>\n",
       "      <td>12 days 15:37:44</td>\n",
       "    </tr>\n",
       "    <tr>\n",
       "      <th>19803</th>\n",
       "      <td>0</td>\n",
       "      <td>2016-04-14 13:29:47</td>\n",
       "      <td>2016-05-03</td>\n",
       "      <td>27</td>\n",
       "      <td>BELA VISTA</td>\n",
       "      <td>0</td>\n",
       "      <td>0</td>\n",
       "      <td>0</td>\n",
       "      <td>0</td>\n",
       "      <td>0</td>\n",
       "      <td>1</td>\n",
       "      <td>0</td>\n",
       "      <td>18 days 10:30:13</td>\n",
       "    </tr>\n",
       "    <tr>\n",
       "      <th>14834</th>\n",
       "      <td>0</td>\n",
       "      <td>2016-05-17 10:31:07</td>\n",
       "      <td>2016-05-19</td>\n",
       "      <td>1</td>\n",
       "      <td>SANTA TEREZA</td>\n",
       "      <td>0</td>\n",
       "      <td>0</td>\n",
       "      <td>0</td>\n",
       "      <td>0</td>\n",
       "      <td>0</td>\n",
       "      <td>0</td>\n",
       "      <td>0</td>\n",
       "      <td>1 days 13:28:53</td>\n",
       "    </tr>\n",
       "  </tbody>\n",
       "</table>\n",
       "</div>"
      ],
      "text/plain": [
       "       gender       scheduled_day appointment_day  age neighbourhood  \\\n",
       "23618       0 2016-04-05 08:23:12      2016-05-11   89     DO QUADRO   \n",
       "46076       0 2016-05-04 16:36:38      2016-05-04   48       MARUÍPE   \n",
       "27289       0 2016-04-29 08:22:16      2016-05-12   51   JOANA D´ARC   \n",
       "19803       0 2016-04-14 13:29:47      2016-05-03   27    BELA VISTA   \n",
       "14834       0 2016-05-17 10:31:07      2016-05-19    1  SANTA TEREZA   \n",
       "\n",
       "       scholarship  hypertension  diabetes  alcoholism  handicap  \\\n",
       "23618            0             1         0           0         0   \n",
       "46076            0             0         0           0         0   \n",
       "27289            0             0         0           0         0   \n",
       "19803            0             0         0           0         0   \n",
       "14834            0             0         0           0         0   \n",
       "\n",
       "       sms_received  no_show     waiting_time  \n",
       "23618             0        1 35 days 15:36:48  \n",
       "46076             0        0  0 days 16:36:38  \n",
       "27289             1        1 12 days 15:37:44  \n",
       "19803             1        0 18 days 10:30:13  \n",
       "14834             0        0  1 days 13:28:53  "
      ]
     },
     "execution_count": 261,
     "metadata": {},
     "output_type": "execute_result"
    }
   ],
   "source": [
    "df.sample(5)"
   ]
  },
  {
   "cell_type": "markdown",
   "metadata": {},
   "source": [
    "<a id='eda'></a>\n",
    "## Exploratory Data Analysis\n",
    "\n",
    "### Research Question 1 : Whose is most likely to miss their appointment men or women ?"
   ]
  },
  {
   "cell_type": "code",
   "execution_count": 262,
   "metadata": {},
   "outputs": [
    {
     "name": "stdout",
     "output_type": "stream",
     "text": [
      "The percentage of women who attended their appointment is nan% and the percentage of women who missed their appointment is \n",
      " nan%\n"
     ]
    }
   ],
   "source": [
    "# Finding out the Percentage of women attending and not attending the Appointment\n",
    "# total number of women\n",
    "women = df.query('gender ==\"F\"').gender.count() \n",
    "\n",
    "# Women who showed up for the appointment\n",
    "women_in = df.query('gender ==\"F\" and no_show == False').gender.count()\n",
    "\n",
    "# Women who didnt show up for the appointment\n",
    "women_out = df.query('gender ==\"F\" and no_show == True').gender.count()\n",
    "\n",
    "# Dividing women who showed and didnt show up by total women.\n",
    "per_women_in, per_women_out = women_in / women, women_out / women\n",
    "\n",
    "print('The percentage of women who attended their appointment is {}% and the percentage of women who missed their appointment is \\n {}%'\n",
    "      .format(round(per_women_in * 100, 2), round(per_women_out * 100, 2)))"
   ]
  },
  {
   "cell_type": "code",
   "execution_count": 263,
   "metadata": {},
   "outputs": [
    {
     "name": "stdout",
     "output_type": "stream",
     "text": [
      "The percentage of men who attended their appointment is nan% and the percentage of men who missed their appointment is nan%\n"
     ]
    }
   ],
   "source": [
    "# Finding the Percentage of men now\n",
    "#Total number of men\n",
    "men = df.query('gender == \"M\"').gender.count()\n",
    "\n",
    "# Men who showed up \n",
    "men_No = df.query('gender ==\"M\" and no_show == False').gender.count()\n",
    "\n",
    "# Men who didnt show up\n",
    "men_Yes = df.query('gender ==\"M\" and no_show == True').gender.count()\n",
    "\n",
    "# Percentage of men who showed up and didnt show up\n",
    "per_men_in,per_men_out = men_No / men , men_Yes / men\n",
    "\n",
    "print('The percentage of men who attended their appointment is {}% and the percentage of men who missed their appointment is {}%'\n",
    "      .format(round(per_men_in * 100, 2), round(per_men_out * 100, 2)))"
   ]
  },
  {
   "cell_type": "code",
   "execution_count": 264,
   "metadata": {},
   "outputs": [
    {
     "data": {
      "image/png": "[encoded data removed]",
      "text/plain": [
       "<matplotlib.figure.Figure at 0x1e2905af390>"
      ]
     },
     "metadata": {},
     "output_type": "display_data"
    }
   ],
   "source": [
    "# Plotting the Percentage of men and women attending / missing appointment \n",
    "\n",
    "x = np.arange(2)\n",
    "fig, (ax1, ax2) = plt.subplots(1, 2, sharex=True, sharey = True,figsize = (15,4))\n",
    "ax1.bar(x,[per_men_in,per_men_out],color='red')\n",
    "ax2.bar(x,[per_women_in,per_women_out])\n",
    "ax1.set_title('Men')\n",
    "ax2.set_title('Women')\n",
    "fig.suptitle('Percentage of Appointment attendance by gender')\n",
    "plt.xticks(x,('Attended Appointment', 'Missed Appointment'))\n",
    "plt.show()"
   ]
  },
  {
   "cell_type": "markdown",
   "metadata": {
    "collapsed": true
   },
   "source": [
    " ## Obersavtion\n",
    " \n",
    "The percentage of women attending their appointment is 79.76% and the percentage of women missing their appointment is 20.24% and the percentage of men attending their appointment is 80.14% and the percentage of men missing their appointment is 19.86%.\n",
    "So the chances of a women missing an appointment is slightly more than men.\n",
    " "
   ]
  },
  {
   "cell_type": "markdown",
   "metadata": {},
   "source": [
    "### Research Question 2: Which age group Alcoholic's are more likely to miss their appointment?"
   ]
  },
  {
   "cell_type": "markdown",
   "metadata": {
    "collapsed": true
   },
   "source": [
    "People of all age drink and some are addicted at a very young age. So I wanted investigate if any particular age group is more \n",
    "likely to miss their appointment if they are alcoholics."
   ]
  },
  {
   "cell_type": "code",
   "execution_count": 265,
   "metadata": {},
   "outputs": [
    {
     "name": "stdout",
     "output_type": "stream",
     "text": [
      "The percentage of Children who attended their appointment is 57.14% and percentage of Children who missed their appointment is 42.86%\n"
     ]
    }
   ],
   "source": [
    "# Children who are alcoholic and showed up \n",
    "No_child = df.query('alcoholism == 1 and age <= 18 and age >= 0 and no_show == False').gender.count()\n",
    "\n",
    "# Children who are alcoholic and didnt showed up \n",
    "Yes_child = df.query('alcoholism == 1 and age <= 18 and age >= 0 and no_show == True').gender.count()\n",
    "\n",
    "# Total number of children who are alcoholic\n",
    "child = No_child + Yes_child\n",
    "\n",
    "# Percentage of children who showed up and didnt showed up\n",
    "Per_No_child, Per_Yes_child =  No_child / child, Yes_child / child\n",
    "\n",
    "print('The percentage of Children who attended their appointment is {}% and percentage of Children who missed their appointment is {}%'\n",
    "      .format(round(Per_No_child * 100, 2), round(Per_Yes_child * 100, 2)))"
   ]
  },
  {
   "cell_type": "code",
   "execution_count": 266,
   "metadata": {},
   "outputs": [
    {
     "name": "stdout",
     "output_type": "stream",
     "text": [
      "The percentage of young adults who attended their appointment is 73.65 % and percentage of young adults who missed their \n",
      " appointment is 26.35%\n"
     ]
    }
   ],
   "source": [
    "# young adults who are alcoholic and showed up \n",
    "No_young = df.query('alcoholism == 1 and age <= 36 and age > 18 and no_show == False').gender.count()\n",
    "\n",
    "# young adults who are alcoholic and didnt showed up \n",
    "Yes_young = df.query('alcoholism == 1 and age <= 36 and age > 18 and no_show == True').gender.count()\n",
    "\n",
    "# Total young adults who are alcoholics \n",
    "young = No_young + Yes_young\n",
    "\n",
    "# Percentage of young adults who showed up and didnt showed up\n",
    "Per_No_young, Per_Yes_young =  No_young / young, Yes_young / young\n",
    "\n",
    "print('The percentage of young adults who attended their appointment is {} % and percentage of young adults who missed their \\n appointment is {}%'\n",
    "      .format(round(Per_No_young * 100, 2), round(Per_Yes_young * 100, 2)))"
   ]
  },
  {
   "cell_type": "code",
   "execution_count": 267,
   "metadata": {},
   "outputs": [
    {
     "name": "stdout",
     "output_type": "stream",
     "text": [
      "The percentage of adults who attended their appointment is nan % and percentage of adults who missed their appointment is \n",
      " nan%\n"
     ]
    }
   ],
   "source": [
    "# young adults who are alcoholic and showed up \n",
    "No_adults = df.query('alcoholism == 1 and age <= 60 and age > 36 and no_show == \"No\"').gender.count()\n",
    "\n",
    "# young adults who are alcoholic and didnt showed up \n",
    "Yes_adults = df.query('alcoholism == 1 and age <= 60 and age > 36 and no_show == \"Yes\"').gender.count()\n",
    "\n",
    "# Total adults who are alcoholics \n",
    "adults = No_adults + Yes_adults\n",
    "\n",
    "# Percentage of adults who showed up and didnt showed up\n",
    "Per_No_adults, Per_Yes_adults =  No_adults / adults, Yes_adults / adults\n",
    "\n",
    "print('The percentage of adults who attended their appointment is {} % and percentage of adults who missed their appointment is \\n {}%'\n",
    "      .format(round(Per_No_adults * 100, 2), round(Per_Yes_adults * 100, 2)))"
   ]
  },
  {
   "cell_type": "code",
   "execution_count": 268,
   "metadata": {},
   "outputs": [
    {
     "name": "stdout",
     "output_type": "stream",
     "text": [
      "The percentage of old adults who attended their appointment is nan % and percentage of old adults who missed their appointment is nan%\n"
     ]
    }
   ],
   "source": [
    "# old adults who are alcoholic and didnt showed up \n",
    "No_old = df.query('alcoholism == 1 and age > 60 and no_show == \"No\"').gender.count()\n",
    "\n",
    "# old adults who are alcoholic and didnt showed up \n",
    "Yes_old = df.query('alcoholism == 1 and age > 60 and no_show == \"Yes\"').gender.count()\n",
    "\n",
    "\n",
    "# Total  old adults who are alcoholics \n",
    "old = No_old + Yes_old\n",
    "\n",
    "# Percentage of old adults who showed up and didnt showed up\n",
    "Per_No_old, Per_Yes_old =  No_old / old, Yes_old / old\n",
    "\n",
    "print('The percentage of old adults who attended their appointment is {} % and percentage of old adults who missed their appointment is {}%'\n",
    "      .format(round(Per_No_old * 100, 2), round(Per_Yes_old * 100, 2)))"
   ]
  },
  {
   "cell_type": "code",
   "execution_count": 269,
   "metadata": {},
   "outputs": [
    {
     "data": {
      "image/png": "[encoded data removed]",
      "text/plain": [
       "<matplotlib.figure.Figure at 0x1e2910b1cf8>"
      ]
     },
     "metadata": {},
     "output_type": "display_data"
    }
   ],
   "source": [
    "# Plotting the alcholics divided into age group who attending / missing appointment \n",
    "x = np.arange(2)\n",
    "fig, (ax1, ax2, ax3, ax4) = plt.subplots(1, 4, sharex=True, sharey = True,figsize = (19,4))\n",
    "\n",
    "ax1.bar(x,[Per_No_child,Per_Yes_child],color = 'Purple')\n",
    "ax2.bar(x,[Per_No_young,Per_Yes_young])\n",
    "ax3.bar(x,[Per_No_adults,Per_Yes_adults],color = 'palegreen')\n",
    "ax4.bar(x,[Per_No_old, Per_Yes_old],color = 'navy')\n",
    "\n",
    "ax1.set_title('Children, Age: 0 - 18')\n",
    "ax2.set_title('Young Adults, Age: 19 - 36')\n",
    "ax3.set_title('Adults, Age: 37 - 60')\n",
    "ax4.set_title('Old Adults, Age: 60+')\n",
    "fig.suptitle('Percentage of Appointment attendance by Alcohol Addiction and age')\n",
    "plt.xticks(x,('Attended Appointment', 'Missed Appointment'))\n",
    "plt.show()"
   ]
  },
  {
   "cell_type": "markdown",
   "metadata": {},
   "source": [
    "# Predictation"
   ]
  },
  {
   "cell_type": "code",
   "execution_count": 270,
   "metadata": {},
   "outputs": [],
   "source": [
    "# Reshaping the data \n",
    "X = df[features].values\n",
    "y = df['no_show'].values.reshape(-1, 1)\n",
    "\n",
    "# Splitting the data into training and test data\n",
    "x_train, x_test, y_train, y_test = train_test_split(X, y, test_size = 0.30, random_state = 42)\n",
    "\n",
    "# Standardizing the data \n",
    "sc = StandardScaler()\n",
    "x_train = sc.fit_transform(x_train)\n",
    "x_test = sc.transform(x_test)"
   ]
  },
  {
   "cell_type": "code",
   "execution_count": 271,
   "metadata": {},
   "outputs": [
    {
     "name": "stdout",
     "output_type": "stream",
     "text": [
      "The accuracy is : 80.02\n"
     ]
    }
   ],
   "source": [
    "# Logistic Regression Model \n",
    "logistic = LogisticRegression()\n",
    "y_pred = logistic.fit(x_train,y_train).predict(x_test)\n",
    "\n",
    "print('The accuracy is : {}'.format(round(accuracy_score(y_pred, y_test)* 100,2)))"
   ]
  },
  {
   "cell_type": "code",
   "execution_count": 272,
   "metadata": {},
   "outputs": [
    {
     "name": "stdout",
     "output_type": "stream",
     "text": [
      "The accuracy is : 80.04\n"
     ]
    }
   ],
   "source": [
    "# Decision Tree Model\n",
    "decision_tree = DecisionTreeClassifier(criterion='gini')\n",
    "y_pred = decision_tree.fit(x_train,y_train).predict(x_test)\n",
    "\n",
    "print('The accuracy is : {}'.format(round(accuracy_score(y_pred, y_test)* 100,2)))"
   ]
  },
  {
   "cell_type": "code",
   "execution_count": 280,
   "metadata": {},
   "outputs": [
    {
     "name": "stdout",
     "output_type": "stream",
     "text": [
      "The accuracy is : 80.02\n"
     ]
    }
   ],
   "source": [
    "svc = SVC(kernel = 'rbf', gamma=.03, C=1.0)\n",
    "y_pred = svc.fit(x_train, y_train).predict(x_test)\n",
    "\n",
    "print('The accuracy is : {}'.format(round(accuracy_score(y_pred, y_test)* 100,2)))"
   ]
  },
  {
   "cell_type": "markdown",
   "metadata": {},
   "source": [
    "<a id='conclusions'></a>\n",
    "## Conclusions\n"
   ]
  },
  {
   "cell_type": "markdown",
   "metadata": {
    "collapsed": true
   },
   "source": [
    "After analyzing the dataset based on my research questions, I conclude the following\n",
    "\n",
    "#### Question 1: Whose is most likely to miss their appointment men or women ?\n",
    "I found women (20.24%) are slightly more likely to miss their appointments compared to men (19.86%). I have not applied any statsical tests on the dataset. Analysis was done though the ratio of men and women weren't equal. \n",
    "\n",
    "I can't give any suggestions to improve no-show rates because the information gathered doesn't provide the time of the appointment and women might not perfer to attend the appointments later in the day. As 62.70% of all attacks on women take place during the later part of the day. Source - https://www.libraryindex.com/pages/447/Victims-Crime-WHEN-WHERE-DOES-VIOLENT-CRIME-HAPPEN.html . Brazil has got a high crime rate, therefore this information may or may not provide the reason for it. \n",
    "\n",
    "The limitation is the dataset doesnt provide the time of the appointment. Which could help us understand if thats the reason for women missing appointments.\n",
    "\n",
    "#### Question 2: Which age group Alcoholic's are more likely to miss their appointment?\n",
    "For this analysis, the dataset was divided into four groups according to their age. Only people who are alcoholic were considered. It is evident that children (age: 0-18) are more likely to miss their appointment (42%) than any other age group. The old adults (age: 60+) are least likely to miss their appointment (13%). The percentage of alcholics who missed their appointment is decreasing as grow go older.  \n",
    "\n",
    "The limitation is dataset provided, the number of children who are alcoholic was very less when compared to the other age group. \n",
    "The dataset doesnt contain enough data for alcoholics under 18 to be compared with the other age groups."
   ]
  },
  {
   "cell_type": "markdown",
   "metadata": {},
   "source": [
    "#### Note:\n",
    "Used kaggle to read about the data."
   ]
  }
 ],
 "metadata": {
  "kernelspec": {
   "display_name": "Python 3",
   "language": "python",
   "name": "python3"
  },
  "language_info": {
   "codemirror_mode": {
    "name": "ipython",
    "version": 3
   },
   "file_extension": ".py",
   "mimetype": "text/x-python",
   "name": "python",
   "nbconvert_exporter": "python",
   "pygments_lexer": "ipython3",
   "version": "3.6.3"
  }
 },
 "nbformat": 4,
 "nbformat_minor": 2
}
